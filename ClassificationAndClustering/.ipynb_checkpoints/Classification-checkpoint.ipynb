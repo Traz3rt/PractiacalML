{
 "cells": [
  {
   "cell_type": "code",
   "execution_count": 1,
   "id": "b1beeff9",
   "metadata": {},
   "outputs": [],
   "source": [
    "import numpy as np\n",
    "import pandas as pd"
   ]
  },
  {
   "cell_type": "code",
   "execution_count": 2,
   "id": "9830ccee",
   "metadata": {},
   "outputs": [],
   "source": [
    "df_train = pd.read_csv(\"Datasets/MobilePriceClassification/train.csv\")\n",
    "df_test = pd.read_csv(\"Datasets/MobilePriceClassification/test.csv\") "
   ]
  },
  {
   "cell_type": "code",
   "execution_count": 16,
   "id": "aa76e017",
   "metadata": {},
   "outputs": [
    {
     "data": {
      "text/html": [
       "<div>\n",
       "<style scoped>\n",
       "    .dataframe tbody tr th:only-of-type {\n",
       "        vertical-align: middle;\n",
       "    }\n",
       "\n",
       "    .dataframe tbody tr th {\n",
       "        vertical-align: top;\n",
       "    }\n",
       "\n",
       "    .dataframe thead th {\n",
       "        text-align: right;\n",
       "    }\n",
       "</style>\n",
       "<table border=\"1\" class=\"dataframe\">\n",
       "  <thead>\n",
       "    <tr style=\"text-align: right;\">\n",
       "      <th></th>\n",
       "      <th>battery_power</th>\n",
       "      <th>blue</th>\n",
       "      <th>clock_speed</th>\n",
       "      <th>dual_sim</th>\n",
       "      <th>fc</th>\n",
       "      <th>four_g</th>\n",
       "      <th>int_memory</th>\n",
       "      <th>m_dep</th>\n",
       "      <th>mobile_wt</th>\n",
       "      <th>n_cores</th>\n",
       "      <th>...</th>\n",
       "      <th>px_height</th>\n",
       "      <th>px_width</th>\n",
       "      <th>ram</th>\n",
       "      <th>sc_h</th>\n",
       "      <th>sc_w</th>\n",
       "      <th>talk_time</th>\n",
       "      <th>three_g</th>\n",
       "      <th>touch_screen</th>\n",
       "      <th>wifi</th>\n",
       "      <th>price_range</th>\n",
       "    </tr>\n",
       "  </thead>\n",
       "  <tbody>\n",
       "    <tr>\n",
       "      <th>0</th>\n",
       "      <td>842</td>\n",
       "      <td>0</td>\n",
       "      <td>2.2</td>\n",
       "      <td>0</td>\n",
       "      <td>1</td>\n",
       "      <td>0</td>\n",
       "      <td>7</td>\n",
       "      <td>0.6</td>\n",
       "      <td>188</td>\n",
       "      <td>2</td>\n",
       "      <td>...</td>\n",
       "      <td>20</td>\n",
       "      <td>756</td>\n",
       "      <td>2549</td>\n",
       "      <td>9</td>\n",
       "      <td>7</td>\n",
       "      <td>19</td>\n",
       "      <td>0</td>\n",
       "      <td>0</td>\n",
       "      <td>1</td>\n",
       "      <td>1</td>\n",
       "    </tr>\n",
       "    <tr>\n",
       "      <th>1</th>\n",
       "      <td>1021</td>\n",
       "      <td>1</td>\n",
       "      <td>0.5</td>\n",
       "      <td>1</td>\n",
       "      <td>0</td>\n",
       "      <td>1</td>\n",
       "      <td>53</td>\n",
       "      <td>0.7</td>\n",
       "      <td>136</td>\n",
       "      <td>3</td>\n",
       "      <td>...</td>\n",
       "      <td>905</td>\n",
       "      <td>1988</td>\n",
       "      <td>2631</td>\n",
       "      <td>17</td>\n",
       "      <td>3</td>\n",
       "      <td>7</td>\n",
       "      <td>1</td>\n",
       "      <td>1</td>\n",
       "      <td>0</td>\n",
       "      <td>2</td>\n",
       "    </tr>\n",
       "    <tr>\n",
       "      <th>2</th>\n",
       "      <td>563</td>\n",
       "      <td>1</td>\n",
       "      <td>0.5</td>\n",
       "      <td>1</td>\n",
       "      <td>2</td>\n",
       "      <td>1</td>\n",
       "      <td>41</td>\n",
       "      <td>0.9</td>\n",
       "      <td>145</td>\n",
       "      <td>5</td>\n",
       "      <td>...</td>\n",
       "      <td>1263</td>\n",
       "      <td>1716</td>\n",
       "      <td>2603</td>\n",
       "      <td>11</td>\n",
       "      <td>2</td>\n",
       "      <td>9</td>\n",
       "      <td>1</td>\n",
       "      <td>1</td>\n",
       "      <td>0</td>\n",
       "      <td>2</td>\n",
       "    </tr>\n",
       "    <tr>\n",
       "      <th>3</th>\n",
       "      <td>615</td>\n",
       "      <td>1</td>\n",
       "      <td>2.5</td>\n",
       "      <td>0</td>\n",
       "      <td>0</td>\n",
       "      <td>0</td>\n",
       "      <td>10</td>\n",
       "      <td>0.8</td>\n",
       "      <td>131</td>\n",
       "      <td>6</td>\n",
       "      <td>...</td>\n",
       "      <td>1216</td>\n",
       "      <td>1786</td>\n",
       "      <td>2769</td>\n",
       "      <td>16</td>\n",
       "      <td>8</td>\n",
       "      <td>11</td>\n",
       "      <td>1</td>\n",
       "      <td>0</td>\n",
       "      <td>0</td>\n",
       "      <td>2</td>\n",
       "    </tr>\n",
       "    <tr>\n",
       "      <th>4</th>\n",
       "      <td>1821</td>\n",
       "      <td>1</td>\n",
       "      <td>1.2</td>\n",
       "      <td>0</td>\n",
       "      <td>13</td>\n",
       "      <td>1</td>\n",
       "      <td>44</td>\n",
       "      <td>0.6</td>\n",
       "      <td>141</td>\n",
       "      <td>2</td>\n",
       "      <td>...</td>\n",
       "      <td>1208</td>\n",
       "      <td>1212</td>\n",
       "      <td>1411</td>\n",
       "      <td>8</td>\n",
       "      <td>2</td>\n",
       "      <td>15</td>\n",
       "      <td>1</td>\n",
       "      <td>1</td>\n",
       "      <td>0</td>\n",
       "      <td>1</td>\n",
       "    </tr>\n",
       "  </tbody>\n",
       "</table>\n",
       "<p>5 rows × 21 columns</p>\n",
       "</div>"
      ],
      "text/plain": [
       "   battery_power  blue  clock_speed  dual_sim  fc  four_g  int_memory  m_dep  \\\n",
       "0            842     0          2.2         0   1       0           7    0.6   \n",
       "1           1021     1          0.5         1   0       1          53    0.7   \n",
       "2            563     1          0.5         1   2       1          41    0.9   \n",
       "3            615     1          2.5         0   0       0          10    0.8   \n",
       "4           1821     1          1.2         0  13       1          44    0.6   \n",
       "\n",
       "   mobile_wt  n_cores  ...  px_height  px_width   ram  sc_h  sc_w  talk_time  \\\n",
       "0        188        2  ...         20       756  2549     9     7         19   \n",
       "1        136        3  ...        905      1988  2631    17     3          7   \n",
       "2        145        5  ...       1263      1716  2603    11     2          9   \n",
       "3        131        6  ...       1216      1786  2769    16     8         11   \n",
       "4        141        2  ...       1208      1212  1411     8     2         15   \n",
       "\n",
       "   three_g  touch_screen  wifi  price_range  \n",
       "0        0             0     1            1  \n",
       "1        1             1     0            2  \n",
       "2        1             1     0            2  \n",
       "3        1             0     0            2  \n",
       "4        1             1     0            1  \n",
       "\n",
       "[5 rows x 21 columns]"
      ]
     },
     "execution_count": 16,
     "metadata": {},
     "output_type": "execute_result"
    }
   ],
   "source": [
    "df_train.head()"
   ]
  },
  {
   "cell_type": "code",
   "execution_count": 4,
   "id": "46710d7a",
   "metadata": {},
   "outputs": [],
   "source": [
    "x = df_train.drop(columns = ['price_range']).values\n",
    "y = df_train['price_range'].values"
   ]
  },
  {
   "cell_type": "code",
   "execution_count": 5,
   "id": "e95e0982",
   "metadata": {},
   "outputs": [
    {
     "data": {
      "text/plain": [
       "(1000, 20)"
      ]
     },
     "execution_count": 5,
     "metadata": {},
     "output_type": "execute_result"
    }
   ],
   "source": [
    "x_test = df_test.drop(columns = ['id']).values\n",
    "x_test.shape\n"
   ]
  },
  {
   "cell_type": "code",
   "execution_count": 6,
   "id": "5759053a",
   "metadata": {},
   "outputs": [
    {
     "data": {
      "text/plain": [
       "(2000, 20)"
      ]
     },
     "execution_count": 6,
     "metadata": {},
     "output_type": "execute_result"
    }
   ],
   "source": [
    "x.shape"
   ]
  },
  {
   "cell_type": "code",
   "execution_count": 7,
   "id": "928a4783",
   "metadata": {},
   "outputs": [
    {
     "data": {
      "text/plain": [
       "(2000,)"
      ]
     },
     "execution_count": 7,
     "metadata": {},
     "output_type": "execute_result"
    }
   ],
   "source": [
    "y.shape"
   ]
  },
  {
   "cell_type": "code",
   "execution_count": 8,
   "id": "8458a8f2",
   "metadata": {},
   "outputs": [],
   "source": [
    "from sklearn.model_selection import train_test_split\n",
    "from sklearn.preprocessing import MinMaxScaler\n",
    "\n",
    "#MinMaxScaler().fit_transform(x) normaliserer \n",
    "x_train, x_val, y_train, y_val = train_test_split(MinMaxScaler().fit_transform(x), y, test_size = 0.3)\n"
   ]
  },
  {
   "cell_type": "code",
   "execution_count": 9,
   "id": "a1e03599",
   "metadata": {},
   "outputs": [
    {
     "name": "stdout",
     "output_type": "stream",
     "text": [
      "X_train (1400, 20)\n",
      "Y_train (1400,)\n",
      "X_val (600, 20)\n",
      "Y_val (600,)\n"
     ]
    }
   ],
   "source": [
    "print(\"X_train\", x_train.shape)\n",
    "print(\"Y_train\", y_train.shape)\n",
    "print(\"X_val\", x_val.shape)\n",
    "print(\"Y_val\", y_val.shape)"
   ]
  },
  {
   "cell_type": "code",
   "execution_count": 24,
   "id": "95b495f9",
   "metadata": {},
   "outputs": [
    {
     "data": {
      "text/plain": [
       "SVC()"
      ]
     },
     "execution_count": 24,
     "metadata": {},
     "output_type": "execute_result"
    }
   ],
   "source": [
    "from sklearn.svm import SVC\n",
    "\n",
    "model_rbf = SVC()\n",
    "model.fit(x_train, y_train)"
   ]
  },
  {
   "cell_type": "code",
   "execution_count": 25,
   "id": "53990561",
   "metadata": {},
   "outputs": [],
   "source": [
    "from sklearn.metrics import confusion_matrix, accuracy_score, f1_score, precision_score, recall_score\n",
    "from sklearn.metrics import classification_report, confusion_matrix\n",
    "\n",
    "y_pred = model.predict(MinMaxScaler().fit_transform(x_val))"
   ]
  },
  {
   "cell_type": "code",
   "execution_count": 26,
   "id": "cce23b95",
   "metadata": {},
   "outputs": [],
   "source": [
    "cf_matrix = confusion_matrix(y_val, y_pred)"
   ]
  },
  {
   "cell_type": "code",
   "execution_count": 27,
   "id": "03d7fe39",
   "metadata": {},
   "outputs": [
    {
     "name": "stdout",
     "output_type": "stream",
     "text": [
      "[[135  16   0   0]\n",
      " [ 14 114  14   0]\n",
      " [  0  17 119  10]\n",
      " [  0   0  23 138]]\n"
     ]
    }
   ],
   "source": [
    "print(cf_matrix)"
   ]
  },
  {
   "cell_type": "code",
   "execution_count": 28,
   "id": "83df15e3",
   "metadata": {},
   "outputs": [
    {
     "data": {
      "text/plain": [
       "<AxesSubplot:>"
      ]
     },
     "execution_count": 28,
     "metadata": {},
     "output_type": "execute_result"
    },
    {
     "data": {
      "image/png": "[encoded data removed]",
      "text/plain": [
       "<Figure size 432x288 with 2 Axes>"
      ]
     },
     "metadata": {
      "needs_background": "light"
     },
     "output_type": "display_data"
    }
   ],
   "source": [
    "import seaborn as sns\n",
    "\n",
    "sns.heatmap(cf_matrix, annot=True, fmt='', cmap='Blues')"
   ]
  },
  {
   "cell_type": "code",
   "execution_count": 29,
   "id": "9311e0f3",
   "metadata": {},
   "outputs": [
    {
     "name": "stdout",
     "output_type": "stream",
     "text": [
      "              precision    recall  f1-score   support\n",
      "\n",
      "           0       0.91      0.89      0.90       151\n",
      "           1       0.78      0.80      0.79       142\n",
      "           2       0.76      0.82      0.79       146\n",
      "           3       0.93      0.86      0.89       161\n",
      "\n",
      "    accuracy                           0.84       600\n",
      "   macro avg       0.84      0.84      0.84       600\n",
      "weighted avg       0.85      0.84      0.84       600\n",
      "\n"
     ]
    }
   ],
   "source": [
    "print(classification_report(y_val, y_pred))"
   ]
  },
  {
   "cell_type": "markdown",
   "id": "4c12e6f9",
   "metadata": {},
   "source": [
    "# Tuning model"
   ]
  },
  {
   "cell_type": "code",
   "execution_count": 31,
   "id": "7f7047e5",
   "metadata": {},
   "outputs": [],
   "source": [
    "model_cross = SVC() "
   ]
  },
  {
   "cell_type": "code",
   "execution_count": 35,
   "id": "5da1ee78",
   "metadata": {},
   "outputs": [],
   "source": [
    "param = {'kernel':('linear', 'poly', 'rbf', 'sigmoid'), 'C':[0.01, 0.1, 1, 10], 'gamma':('scale', 'auto')}"
   ]
  },
  {
   "cell_type": "code",
   "execution_count": 39,
   "id": "d3a7b7f5",
   "metadata": {},
   "outputs": [],
   "source": [
    "from sklearn.model_selection import GridSearchCV\n",
    "classifier = GridSearchCV(model_cross, param)"
   ]
  },
  {
   "cell_type": "code",
   "execution_count": 41,
   "id": "12996373",
   "metadata": {},
   "outputs": [
    {
     "data": {
      "text/plain": [
       "GridSearchCV(estimator=SVC(),\n",
       "             param_grid={'C': [0.01, 0.1, 1, 10], 'gamma': ('scale', 'auto'),\n",
       "                         'kernel': ('linear', 'poly', 'rbf', 'sigmoid')})"
      ]
     },
     "execution_count": 41,
     "metadata": {},
     "output_type": "execute_result"
    }
   ],
   "source": [
    "classifier.fit(x_train, y_train)"
   ]
  },
  {
   "cell_type": "code",
   "execution_count": 45,
   "id": "2132434e",
   "metadata": {},
   "outputs": [
    {
     "data": {
      "text/plain": [
       "['mean_fit_time',\n",
       " 'mean_score_time',\n",
       " 'mean_test_score',\n",
       " 'param_C',\n",
       " 'param_gamma',\n",
       " 'param_kernel',\n",
       " 'params',\n",
       " 'rank_test_score',\n",
       " 'split0_test_score',\n",
       " 'split1_test_score',\n",
       " 'split2_test_score',\n",
       " 'split3_test_score',\n",
       " 'split4_test_score',\n",
       " 'std_fit_time',\n",
       " 'std_score_time',\n",
       " 'std_test_score']"
      ]
     },
     "execution_count": 45,
     "metadata": {},
     "output_type": "execute_result"
    }
   ],
   "source": [
    "sorted(classifier.cv_results_.keys())"
   ]
  },
  {
   "cell_type": "code",
   "execution_count": 57,
   "id": "8da76b30",
   "metadata": {},
   "outputs": [
    {
     "name": "stdout",
     "output_type": "stream",
     "text": [
      "0.96 {'C': 10, 'gamma': 'scale', 'kernel': 'linear'}\n"
     ]
    }
   ],
   "source": [
    "print(classifier.best_score_, classifier.best_params_)"
   ]
  },
  {
   "cell_type": "code",
   "execution_count": 59,
   "id": "bc30fd38",
   "metadata": {},
   "outputs": [],
   "source": [
    "tuned_model = SVC(C = 10, gamma = 'scale', kernel = 'linear')"
   ]
  },
  {
   "cell_type": "code",
   "execution_count": 61,
   "id": "04a85168",
   "metadata": {},
   "outputs": [
    {
     "data": {
      "text/plain": [
       "SVC(C=10, kernel='linear')"
      ]
     },
     "execution_count": 61,
     "metadata": {},
     "output_type": "execute_result"
    }
   ],
   "source": [
    "tuned_model.fit(x_train, y_train)"
   ]
  },
  {
   "cell_type": "code",
   "execution_count": 64,
   "id": "2cd71e99",
   "metadata": {},
   "outputs": [],
   "source": [
    "tuned_y_pred = tuned_model.predict(MinMaxScaler().fit_transform(x_val))"
   ]
  },
  {
   "cell_type": "code",
   "execution_count": 66,
   "id": "664c965c",
   "metadata": {},
   "outputs": [],
   "source": [
    "tuned_cf_matrix = confusion_matrix(y_val, tuned_y_pred)"
   ]
  },
  {
   "cell_type": "code",
   "execution_count": 69,
   "id": "4c5dc4ac",
   "metadata": {},
   "outputs": [
    {
     "data": {
      "text/plain": [
       "<AxesSubplot:>"
      ]
     },
     "execution_count": 69,
     "metadata": {},
     "output_type": "execute_result"
    },
    {
     "data": {
      "image/png": "[encoded data removed]",
      "text/plain": [
       "<Figure size 432x288 with 2 Axes>"
      ]
     },
     "metadata": {
      "needs_background": "light"
     },
     "output_type": "display_data"
    }
   ],
   "source": [
    "sns.heatmap(tuned_cf_matrix, annot=True, fmt='', cmap='Blues')"
   ]
  },
  {
   "cell_type": "code",
   "execution_count": 71,
   "id": "8d37a29a",
   "metadata": {},
   "outputs": [
    {
     "name": "stdout",
     "output_type": "stream",
     "text": [
      "              precision    recall  f1-score   support\n",
      "\n",
      "           0       0.95      0.97      0.96       151\n",
      "           1       0.93      0.94      0.93       142\n",
      "           2       0.94      0.90      0.92       146\n",
      "           3       0.95      0.96      0.96       161\n",
      "\n",
      "    accuracy                           0.94       600\n",
      "   macro avg       0.94      0.94      0.94       600\n",
      "weighted avg       0.94      0.94      0.94       600\n",
      "\n"
     ]
    }
   ],
   "source": [
    "print(classification_report(y_val, tuned_y_pred))"
   ]
  },
  {
   "cell_type": "code",
   "execution_count": 73,
   "id": "4fbbc847",
   "metadata": {},
   "outputs": [],
   "source": [
    "y_test_pred = tuned_model.predict(MinMaxScaler().fit_transform(x_test))"
   ]
  },
  {
   "cell_type": "code",
   "execution_count": 75,
   "id": "85908369",
   "metadata": {},
   "outputs": [
    {
     "name": "stdout",
     "output_type": "stream",
     "text": [
      "[3 3 2 3 1 3 3 1 3 0 3 3 0 0 2 0 2 1 3 2 1 3 1 1 3 0 2 0 3 0 2 0 3 0 1 1 3\n",
      " 1 2 1 1 2 0 0 0 1 0 3 1 2 1 0 3 0 3 0 3 1 1 3 3 3 0 1 1 1 2 3 1 2 1 2 2 3\n",
      " 3 0 2 0 2 3 0 3 3 0 3 0 3 1 3 0 1 2 2 1 2 1 1 2 1 3 1 0 0 3 0 2 1 1 2 3 3\n",
      " 3 1 3 3 3 3 2 3 0 0 3 2 1 2 0 3 2 3 2 0 2 1 1 3 1 1 0 3 2 1 2 1 3 2 3 3 3\n",
      " 2 3 2 3 1 0 3 2 3 3 3 3 3 2 3 3 3 3 1 0 3 0 0 0 2 1 0 1 0 0 0 2 1 0 0 1 1\n",
      " 2 2 1 0 0 0 1 0 3 1 0 2 2 3 3 1 2 2 3 3 2 2 1 0 0 1 3 0 2 2 3 0 2 0 3 2 3\n",
      " 3 1 0 1 0 3 0 1 0 2 2 1 3 1 3 0 3 1 2 0 0 2 1 3 3 3 1 1 3 0 0 2 3 3 1 3 1\n",
      " 1 3 2 1 2 3 3 3 1 0 0 2 3 1 1 3 2 0 3 0 0 3 1 0 3 2 3 3 2 1 3 3 2 3 1 2 1\n",
      " 2 0 2 3 1 0 0 3 0 3 0 1 2 0 2 3 1 3 2 2 1 2 0 0 0 1 3 2 0 0 0 3 2 0 2 3 1\n",
      " 2 2 2 3 1 3 3 2 2 2 3 3 0 3 0 3 1 3 1 3 3 0 1 0 3 1 3 2 3 0 0 0 0 2 0 0 2\n",
      " 2 1 2 2 2 0 1 0 0 3 2 0 3 1 2 2 1 2 3 1 1 2 2 1 2 0 1 1 0 3 2 1 0 1 0 0 1\n",
      " 1 0 0 0 2 2 3 2 3 0 3 0 3 0 1 1 0 2 0 3 2 3 3 1 3 1 3 1 3 2 0 1 2 1 1 0 0\n",
      " 0 1 2 1 0 3 2 0 2 2 0 0 3 1 2 0 2 3 3 0 3 0 2 3 2 3 0 2 0 2 3 0 1 1 0 0 1\n",
      " 2 1 3 3 3 2 3 1 2 2 3 3 3 2 0 2 1 2 2 1 0 2 2 0 0 0 3 1 0 2 2 2 0 3 1 2 2\n",
      " 1 3 0 2 3 0 1 1 3 3 1 1 1 3 2 0 2 0 2 0 3 3 1 3 2 2 3 0 1 2 3 1 3 2 3 1 1\n",
      " 0 0 3 1 0 3 2 3 3 0 3 3 3 2 3 3 1 2 0 2 2 3 1 0 1 1 2 2 2 0 0 2 2 3 2 0 2\n",
      " 1 3 3 0 1 3 0 2 1 1 0 0 2 1 0 1 1 2 2 0 2 2 1 0 3 0 0 3 2 0 0 0 0 0 3 0 3\n",
      " 1 3 2 1 3 3 0 1 0 3 2 2 2 0 3 0 2 0 2 0 0 1 1 1 2 1 3 1 3 2 2 1 3 2 0 1 2\n",
      " 0 3 3 0 2 1 1 2 0 3 2 0 3 2 3 0 0 3 0 2 2 3 2 2 2 2 1 2 3 0 1 0 1 2 1 0 0\n",
      " 1 0 0 3 0 1 2 0 0 1 1 3 0 3 2 3 0 0 1 2 2 1 0 1 2 0 1 1 0 1 3 3 0 3 1 1 3\n",
      " 0 1 0 2 2 0 3 1 0 3 0 1 0 3 3 3 2 3 0 3 2 0 0 0 3 3 2 0 2 1 3 0 0 2 2 0 3\n",
      " 1 2 1 1 1 3 1 1 1 2 1 0 2 2 0 2 0 0 0 0 2 3 3 3 0 1 2 2 1 0 0 2 1 0 2 0 2\n",
      " 2 2 1 2 0 2 1 3 0 0 3 2 3 0 0 2 3 3 1 3 2 1 0 0 3 3 1 3 0 0 0 2 2 1 2 0 3\n",
      " 2 1 2 3 3 0 1 1 2 1 2 2 0 1 3 1 1 3 0 2 3 2 1 1 1 3 3 0 2 3 0 2 3 2 2 2 3\n",
      " 2 0 1 2 1 2 1 1 2 2 2 1 2 1 0 1 3 1 0 1 2 3 1 0 0 3 2 2 3 0 3 2 2 1 3 0 1\n",
      " 3 1 1 1 2 3 2 0 3 0 2 3 0 3 2 3 3 1 0 2 3 1 0 2 1 2 1 2 0 2 2 0 2 3 2 3 0\n",
      " 2 1 1 2 2 3 3 0 2 1 2 1 3 1 0 3 0 1 0 0 3 3 2 0 0 0 0 3 2 3 3 0 0 2 1 0 2\n",
      " 2]\n"
     ]
    }
   ],
   "source": [
    "print(y_test_pred)"
   ]
  },
  {
   "cell_type": "code",
   "execution_count": 77,
   "id": "f6c67e86",
   "metadata": {},
   "outputs": [
    {
     "data": {
      "text/plain": [
       "{0: 259, 1: 224, 2: 254, 3: 263}"
      ]
     },
     "execution_count": 77,
     "metadata": {},
     "output_type": "execute_result"
    }
   ],
   "source": [
    "unique, counts = np.unique(y_test_pred, return_counts=True)\n",
    "dict(zip(unique, counts))"
   ]
  }
 ],
 "metadata": {
  "kernelspec": {
   "display_name": "Python 3 (ipykernel)",
   "language": "python",
   "name": "python3"
  },
  "language_info": {
   "codemirror_mode": {
    "name": "ipython",
    "version": 3
   },
   "file_extension": ".py",
   "mimetype": "text/x-python",
   "name": "python",
   "nbconvert_exporter": "python",
   "pygments_lexer": "ipython3",
   "version": "3.9.7"
  }
 },
 "nbformat": 4,
 "nbformat_minor": 5
}
